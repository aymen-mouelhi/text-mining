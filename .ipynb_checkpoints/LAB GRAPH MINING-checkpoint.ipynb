{
 "cells": [
  {
   "cell_type": "code",
   "execution_count": 1,
   "metadata": {
    "collapsed": true
   },
   "outputs": [],
   "source": [
    "import pandas as pd\n",
    "import random as rnd\n",
    "from networkx import DiGraph\n",
    "import networkx as nx\n",
    "%matplotlib inline\n",
    "import numpy as np\n",
    "import sys\n",
    "import matplotlib.pyplot as plt"
   ]
  },
  {
   "cell_type": "code",
   "execution_count": 2,
   "metadata": {
    "collapsed": false
   },
   "outputs": [
    {
     "data": {
      "text/html": [
       "<div>\n",
       "<table border=\"1\" class=\"dataframe\">\n",
       "  <thead>\n",
       "    <tr style=\"text-align: right;\">\n",
       "      <th></th>\n",
       "      <th>source</th>\n",
       "      <th>target</th>\n",
       "    </tr>\n",
       "  </thead>\n",
       "  <tbody>\n",
       "    <tr>\n",
       "      <th>0</th>\n",
       "      <td>1</td>\n",
       "      <td>3</td>\n",
       "    </tr>\n",
       "    <tr>\n",
       "      <th>1</th>\n",
       "      <td>1</td>\n",
       "      <td>4</td>\n",
       "    </tr>\n",
       "    <tr>\n",
       "      <th>2</th>\n",
       "      <td>1</td>\n",
       "      <td>5</td>\n",
       "    </tr>\n",
       "    <tr>\n",
       "      <th>3</th>\n",
       "      <td>1</td>\n",
       "      <td>6</td>\n",
       "    </tr>\n",
       "    <tr>\n",
       "      <th>4</th>\n",
       "      <td>1</td>\n",
       "      <td>7</td>\n",
       "    </tr>\n",
       "  </tbody>\n",
       "</table>\n",
       "</div>"
      ],
      "text/plain": [
       "   source  target\n",
       "0       1       3\n",
       "1       1       4\n",
       "2       1       5\n",
       "3       1       6\n",
       "4       1       7"
      ]
     },
     "execution_count": 2,
     "metadata": {},
     "output_type": "execute_result"
    }
   ],
   "source": [
    "#load the social graph\n",
    "#this is a sample of the total data. the entire graph can be found in the \"data\" folder\n",
    "edgelist=pd.read_csv('./filtered.csv')\n",
    "#the format of the data is an edge list: every row has two nodes/vertices that idicate the edge that exist between them\n",
    "#the graph here is assumed to be directededgelist=pd.read_csv('./filtered.csv')\n",
    "edgelist.head(5)"
   ]
  },
  {
   "cell_type": "code",
   "execution_count": 3,
   "metadata": {
    "collapsed": false
   },
   "outputs": [
    {
     "name": "stdout",
     "output_type": "stream",
     "text": [
      "   223789  213163  1341100972  MT\n",
      "0  223789  213163  1341100972  RE\n",
      "1  376989   50329  1341101181  RT\n",
      "2   26375  168366  1341101183  MT\n",
      "3  376989   13813  1341101192  RT\n",
      "4  453850       8  1341101208  RT\n"
     ]
    }
   ],
   "source": [
    "#load the graph of ACTIONS we care about the action of re-tweet\n",
    "actions=pd.read_csv('./data/higgs-activity_time.txt',sep=' ')\n",
    "\n",
    "print(actions.head(5))\n",
    "\n",
    "#give names to the columns of the data\n",
    "actions.columns=['from','to','timestamp','action']\n",
    "#keep only the re-tweet actions : select the rows of the dataframe where action==RT\n",
    "actions=actions[actions['action']=='RT']\n",
    "actions=actions[['from','to']].drop_duplicates()\n",
    "# the set of ids that belong in the action graph ...will be needed later\n",
    "hasRT=set(actions['from']) | set(actions['to'])"
   ]
  },
  {
   "cell_type": "code",
   "execution_count": 4,
   "metadata": {
    "collapsed": true
   },
   "outputs": [],
   "source": [
    "#buid the graphs from the edge lists\n",
    "A=DiGraph()\n",
    "A.add_edges_from(actions.values)\n",
    "S=DiGraph()\n",
    "S.add_edges_from(edgelist.values)"
   ]
  },
  {
   "cell_type": "code",
   "execution_count": 5,
   "metadata": {
    "collapsed": false,
    "scrolled": true
   },
   "outputs": [
    {
     "data": {
      "text/plain": [
       "<matplotlib.collections.PathCollection at 0x107bc8a20>"
      ]
     },
     "execution_count": 5,
     "metadata": {},
     "output_type": "execute_result"
    },
    {
     "data": {
      "image/png": "[encoded data removed]",
      "text/plain": [
       "<matplotlib.figure.Figure at 0x107e379e8>"
      ]
     },
     "metadata": {},
     "output_type": "display_data"
    }
   ],
   "source": [
    "#Get all in-degrees to provide histogra,\n",
    "in_degree=S.in_degree()\n",
    "plt.figure()\n",
    "#plt.hist([in_degree[k] for k in in_degree],bins=30) #bar chart histogram\n",
    "frequency,bins=np.histogram( #numpy based histogram\n",
    "    [in_degree[k] for k in in_degree],bins=30)\n",
    "plt.scatter([(x+bins[i+1])/2.0 for i,x in enumerate(bins[:-1])],frequency)\n",
    "#these two normally change the scales of the axes  whether they actually work depends (lib version)\n",
    "#plt.xscale('log')\n",
    "#plt.yscale('log')"
   ]
  },
  {
   "cell_type": "code",
   "execution_count": 6,
   "metadata": {
    "collapsed": false
   },
   "outputs": [],
   "source": [
    "#evaluate the influence of a node by calculating all the nodes that have been influenced by that node\n",
    "#'B' \"beeing influenced\" by 'B': at some point the messages of a node A where re-tweeted by Node B \n",
    "#i.e. follow the re-tweets in reverse order to see all of those who retweed the \"root\"\n",
    "nodes=set(edgelist['source']) & set(edgelist['target'])\n",
    "influence={}\n",
    "for node in nodes:\n",
    "    if node in hasRT:\n",
    "        #we use bfs in \"reverse\" to bind all possible retweets that originated at 'node'  \n",
    "        influence[node]=len(list(nx.bfs_edges(A,node,reverse=True)))"
   ]
  },
  {
   "cell_type": "code",
   "execution_count": 11,
   "metadata": {
    "collapsed": false
   },
   "outputs": [
    {
     "name": "stdout",
     "output_type": "stream",
     "text": [
      "{2: 0, 3: 0, 4: 117, 5: 28, 6: 84, 7: 18, 8: 75462, 9: 0, 10: 0, 11: 0, 13: 3, 14: 0, 15: 75538, 16: 25, 17: 3, 18: 0, 19: 74813, 20: 0, 23: 22, 24: 62, 25: 0, 26: 74819, 27: 52, 28: 15, 30: 0, 31: 0, 34: 37, 36: 0, 37: 0, 38: 2, 39: 7, 40: 121, 42: 215, 43: 74886, 44: 56, 45: 218, 46: 0, 47: 1, 48: 1, 49: 1, 50: 18, 51: 74944, 52: 5, 53: 7, 54: 0, 55: 2, 56: 13, 57: 28, 58: 0, 59: 503, 61: 0, 62: 20, 63: 64, 65: 75029, 66: 3, 67: 2, 68: 74729, 69: 2, 70: 0, 71: 75018, 72: 6, 73: 10, 74: 0, 76: 74730, 77: 75155, 78: 74798, 79: 14, 80: 74767, 81: 74721, 83: 16, 84: 74748, 85: 1, 86: 247, 88: 74721, 89: 17, 90: 1, 91: 92, 92: 62, 93: 17, 94: 74843, 95: 9, 96: 5, 97: 0, 99: 6, 101: 0, 102: 0, 103: 0, 104: 4, 106: 919, 107: 1, 108: 5, 110: 0, 113: 0, 114: 9, 115: 0, 116: 1, 117: 0, 119: 0, 120: 0, 8313: 0, 121: 0, 122: 0, 124: 33, 126: 0, 128: 1, 130: 0, 131: 0, 133: 0, 134: 4, 136: 0, 137: 6, 138: 75972, 140: 6, 141: 1, 142: 8, 143: 74822, 145: 9, 146: 1, 147: 0, 148: 0, 149: 0, 151: 2, 152: 0, 153: 0, 154: 1, 155: 0, 157: 6, 159: 4, 161: 23, 162: 1, 163: 26, 167: 0, 168: 11, 171: 70, 173: 1, 174: 0, 178: 32, 180: 0, 181: 1, 183: 6, 184: 0, 185: 0, 186: 16, 187: 0, 188: 75056, 189: 184, 190: 5, 191: 1, 192: 0, 195: 1, 197: 3, 199: 0, 201: 0, 202: 5, 204: 0, 205: 74721, 206: 75185, 208: 4, 209: 4, 210: 5, 8403: 0, 211: 198, 212: 1, 213: 75041, 214: 74857, 216: 611, 220: 76186, 221: 67, 222: 95, 223: 74802, 224: 0, 226: 190, 227: 1, 228: 377, 229: 885, 230: 3, 231: 101, 232: 19, 233: 17, 234: 2, 235: 64, 236: 1418, 237: 0, 238: 0, 240: 871, 241: 777, 243: 936, 245: 1190, 246: 0, 247: 2, 248: 375, 249: 38, 250: 7, 251: 1, 252: 0, 253: 16, 254: 0, 255: 18, 256: 0, 257: 1, 258: 0, 259: 0, 261: 3, 263: 2, 264: 0, 265: 0, 266: 34, 267: 5, 268: 262, 269: 4, 270: 1, 271: 20, 272: 15, 273: 915, 274: 1010, 276: 0, 277: 0, 280: 75097, 283: 2944, 285: 1, 286: 0, 287: 1, 291: 249, 292: 1, 293: 3, 295: 1, 296: 0, 297: 39, 298: 79, 299: 2, 300: 0, 301: 75472, 304: 0, 305: 17, 306: 0, 307: 74744, 308: 159, 309: 1, 310: 80, 311: 7, 313: 0, 314: 39, 315: 1, 316: 5, 317: 220, 318: 7, 319: 3, 320: 2, 321: 4, 322: 75145, 323: 289, 326: 40, 327: 74858, 328: 0, 329: 43, 330: 199, 331: 0, 332: 1, 333: 1, 335: 75046, 336: 2, 337: 1, 338: 0, 339: 10, 340: 0, 341: 0, 349: 74721, 350: 16, 351: 0, 352: 321, 353: 1, 354: 0, 355: 0, 356: 777, 357: 116, 358: 207, 359: 0, 360: 7, 362: 1, 363: 20, 364: 0, 365: 74784, 366: 3, 367: 7, 368: 0, 369: 74790, 370: 74721, 371: 0, 372: 3, 374: 75138, 376: 74788, 377: 1, 378: 11, 379: 0, 381: 26, 382: 0, 383: 75232, 385: 86, 386: 1, 387: 75270, 388: 0, 389: 74721, 390: 140, 391: 0, 392: 0, 393: 1, 394: 0, 396: 74848, 397: 1, 398: 2, 399: 0, 400: 151, 401: 1, 402: 14, 403: 80, 405: 3, 407: 74775, 408: 182, 409: 0, 410: 0, 411: 0, 412: 2, 414: 0, 415: 5, 416: 0, 417: 2, 418: 11, 419: 48, 420: 0, 421: 0, 422: 14, 423: 6, 424: 91, 428: 2, 429: 13, 431: 69, 432: 0, 433: 0, 435: 1, 436: 0, 437: 74738, 439: 74721, 440: 3, 441: 30, 443: 15, 445: 0, 449: 7, 451: 6, 452: 4, 453: 3, 454: 11, 455: 15, 456: 69, 457: 0, 458: 0, 459: 74756, 460: 0, 461: 25, 462: 68, 463: 74818, 464: 45, 465: 74886, 466: 0, 467: 1, 468: 74721, 469: 0, 470: 1, 471: 2, 472: 0, 473: 40, 474: 3, 477: 19, 478: 2, 479: 6, 480: 24, 481: 0, 482: 1, 483: 1, 485: 75074, 487: 5, 488: 1, 489: 74721, 490: 27, 492: 74721, 495: 0, 497: 9, 499: 0, 501: 1, 502: 74721, 503: 74721, 504: 5, 505: 74870, 506: 74721, 507: 16, 508: 2, 509: 1, 510: 178, 511: 74721, 512: 0, 514: 4, 515: 74721, 516: 3, 517: 0, 518: 0, 519: 74721, 520: 5, 521: 1, 522: 1, 523: 74845, 525: 1, 527: 26, 528: 74724, 530: 0, 531: 74721, 532: 0, 533: 14, 535: 0, 536: 2, 537: 1, 538: 1, 539: 1, 540: 0, 541: 2, 542: 9, 543: 35, 544: 0, 545: 0, 546: 8, 547: 74812, 548: 72, 549: 5, 550: 55, 552: 0, 553: 74721, 554: 4, 555: 0, 556: 0, 557: 18, 559: 0, 561: 0, 562: 6, 564: 3, 565: 74725, 566: 1, 567: 0, 568: 1, 569: 0, 570: 1, 571: 0, 572: 23, 573: 0, 574: 4, 575: 0, 8768: 0, 577: 18, 578: 3, 579: 1, 580: 74721, 581: 2, 582: 41, 583: 8, 584: 0, 586: 24, 587: 0, 588: 1, 589: 0, 590: 2, 591: 0, 592: 0, 593: 3, 594: 2, 596: 74721, 597: 1, 598: 42, 599: 0, 602: 8, 604: 3, 606: 6, 608: 4, 600: 0, 614: 2, 615: 4, 616: 6, 617: 0, 618: 0, 619: 0, 621: 0, 623: 271, 624: 74724, 626: 2, 627: 0, 631: 0, 632: 2, 633: 1, 634: 0, 635: 0, 637: 0, 638: 4, 639: 0, 640: 192, 641: 74732, 642: 0, 644: 0, 645: 4, 646: 0, 648: 0, 650: 0, 651: 0, 652: 0, 653: 6, 654: 0, 655: 0, 658: 281, 659: 74730, 660: 0, 661: 0, 662: 1, 663: 0, 664: 0, 667: 9, 670: 4, 671: 1, 672: 0, 673: 7, 674: 3, 675: 0, 676: 4, 677: 74721, 678: 2, 17059: 0, 679: 74778, 680: 0, 682: 0, 684: 0, 686: 0, 689: 74881, 690: 0, 691: 0, 692: 2, 8886: 0, 693: 0, 694: 1, 698: 0, 699: 4, 701: 3, 703: 74747, 705: 7, 709: 0, 711: 0, 712: 1, 714: 74724, 716: 109, 717: 1, 718: 31, 719: 1, 720: 16, 721: 5, 722: 0, 725: 0, 726: 1, 727: 6, 728: 0, 729: 37, 731: 0, 732: 0, 733: 0, 734: 1, 735: 17, 737: 0, 738: 0, 740: 7, 741: 0, 742: 0, 743: 0, 744: 2, 745: 0, 747: 0, 748: 5, 749: 8, 750: 75011, 751: 0, 752: 354, 755: 0, 756: 84, 759: 317, 760: 0, 761: 0, 762: 60, 763: 0, 764: 0, 765: 332, 766: 6, 767: 16, 768: 109, 771: 0, 772: 0, 773: 74721, 775: 1, 779: 0, 780: 2, 781: 96, 782: 0, 783: 1, 784: 5, 786: 1, 787: 0, 788: 1, 792: 5, 795: 0, 796: 0, 798: 0, 800: 5, 804: 0, 805: 12, 806: 27, 808: 1, 810: 37, 811: 2, 814: 0, 815: 1, 816: 74784, 818: 0, 820: 10, 821: 0, 822: 31, 824: 2, 827: 0, 828: 24, 829: 0, 830: 3, 831: 0, 832: 74721, 833: 0, 834: 0, 836: 0, 837: 1, 845: 3, 846: 3, 847: 0, 849: 0, 850: 4, 851: 0, 853: 74722, 855: 63, 856: 0, 857: 75334, 858: 0, 860: 1, 861: 0, 865: 74803, 866: 0, 867: 106, 869: 6, 871: 2, 872: 0, 873: 0, 874: 0, 875: 74756, 877: 0, 878: 0, 879: 18, 880: 1, 882: 0, 885: 145, 886: 1, 887: 0, 889: 5, 890: 2, 891: 304, 894: 2, 895: 0, 897: 1, 898: 0, 899: 2, 9092: 0, 901: 34, 902: 0, 904: 0, 906: 0, 908: 2, 909: 2, 910: 0, 911: 0, 912: 0, 913: 0, 915: 0, 916: 0, 918: 0, 919: 38, 920: 449, 921: 2, 922: 1, 923: 0, 924: 1, 926: 0, 927: 0, 928: 0, 932: 0, 934: 0, 935: 3, 936: 0, 937: 0, 938: 1, 939: 2, 941: 1, 942: 1, 943: 7, 944: 0, 945: 2, 946: 2, 949: 0, 950: 0, 8330: 0, 951: 8, 955: 1, 956: 0, 957: 74931, 9151: 4, 958: 9, 959: 51, 960: 75437, 961: 1, 962: 2, 964: 12, 965: 99, 969: 7, 971: 25, 972: 0, 973: 74721, 975: 0, 976: 4, 977: 23, 981: 194, 983: 53, 984: 1, 986: 0, 989: 2, 991: 22, 992: 46, 995: 74721, 996: 0, 997: 0, 1001: 0, 1003: 74724, 1005: 10, 1006: 0, 1007: 0, 1008: 0, 1009: 0, 1011: 0, 1013: 0, 1014: 10, 1016: 0, 1018: 0, 1019: 10, 1021: 1, 1022: 2, 1023: 0, 1026: 19, 1027: 3, 1028: 0, 1030: 0, 1033: 0, 1035: 1, 1037: 74721, 1039: 13, 1040: 0, 1042: 13, 1043: 0, 1044: 0, 1045: 0, 1046: 0, 9236: 0, 1049: 4, 1050: 0, 1051: 0, 1052: 1, 1054: 0, 1056: 12, 1060: 0, 1062: 319, 1063: 0, 1065: 0, 1066: 0, 1067: 0, 1068: 1, 1069: 0, 1071: 0, 1073: 0, 1079: 6, 1080: 0, 1082: 23, 1084: 1, 1085: 0, 1086: 1, 1087: 1, 1089: 0, 1092: 1, 1094: 0, 1096: 2, 1097: 31, 1099: 4, 1100: 0, 1101: 4, 1103: 1, 1104: 8, 1105: 1, 1113: 0, 1119: 0, 1125: 74722, 1126: 0, 1128: 0, 1129: 0, 1130: 1, 1133: 1, 1134: 74721, 1137: 3, 1138: 74738, 1140: 0, 1141: 1, 1142: 11, 1144: 0, 1147: 0, 1149: 0, 1152: 1, 1155: 0, 1158: 0, 1160: 2, 1162: 1, 1165: 0, 1166: 0, 1171: 0, 1174: 5, 1175: 1, 1177: 0, 1178: 0, 1180: 1, 1181: 0, 1182: 2, 1188: 0, 1190: 9, 1193: 0, 1194: 0, 1199: 0, 1202: 0, 1203: 0, 1205: 37, 1208: 1, 1210: 1, 1214: 3, 1216: 1, 1217: 1, 1220: 1, 1221: 4, 1222: 0, 1225: 0, 1230: 7, 1231: 137, 1232: 4, 1233: 3, 1236: 9, 1239: 38, 1240: 0, 1241: 0, 1243: 23, 1244: 1, 1245: 0, 1247: 0, 1248: 10, 1249: 0, 9441: 0, 1251: 74731, 1253: 74778, 1254: 8, 1256: 0, 1259: 0, 1260: 2, 1261: 0, 1262: 0, 1266: 2, 1267: 74969, 1268: 3, 1269: 1, 1274: 75181, 1275: 2, 1277: 60, 1278: 0, 1279: 0, 1280: 0, 1281: 4, 1283: 1, 1284: 69, 1285: 52, 1286: 1, 1287: 5, 1288: 2, 1289: 7, 1291: 11, 1292: 74824, 1294: 105, 1295: 0, 1296: 3, 1298: 519, 1300: 0, 1301: 5, 1307: 2, 1309: 1, 1311: 0, 1313: 1, 1314: 1, 1315: 5, 1319: 0, 1324: 0, 1327: 0, 1329: 5, 1331: 5, 1334: 0, 1335: 2, 1336: 3, 1340: 0, 1343: 75415, 1348: 25, 1356: 0, 1359: 0, 1360: 8, 1361: 5, 1364: 2, 1365: 0, 1368: 0, 1369: 0, 1370: 0, 1373: 210, 1375: 0, 1376: 0, 1379: 0, 1381: 0, 1382: 0, 1385: 0, 1394: 0, 1397: 0, 1400: 0, 1403: 1, 1405: 3, 1406: 1, 1409: 0, 1410: 0, 1411: 0, 1414: 0, 1415: 33, 1418: 0, 1421: 0, 1422: 1, 1423: 4, 1425: 74740, 1431: 101, 1437: 0, 1443: 0, 1445: 5, 1446: 1, 9632: 0, 1449: 0, 1452: 0, 1453: 6, 1457: 1, 1459: 104, 1460: 0, 1462: 6, 1465: 0, 1473: 1, 1474: 0, 1480: 0, 1483: 2, 1485: 1, 1487: 0, 1495: 5, 1497: 1, 1501: 1, 1503: 75241, 1504: 1, 1506: 0, 1509: 0, 1515: 3, 1521: 186, 1524: 0, 1525: 0, 1526: 0, 1528: 0, 1531: 14, 1532: 0, 1533: 3, 1535: 0, 1539: 1, 1543: 0, 1545: 0, 1548: 74760, 1558: 0, 1559: 1, 17941: 0, 1563: 0, 1564: 8, 1568: 2, 1572: 0, 1574: 136, 1575: 5, 1576: 74721, 1587: 0, 1589: 0, 1591: 0, 1596: 0, 1597: 74721, 1607: 0, 1610: 2, 1613: 0, 1616: 0, 1617: 0, 1618: 6, 1620: 0, 1623: 2, 1624: 0, 1625: 0, 1626: 0, 1629: 0, 1632: 3, 1642: 0, 1644: 0, 1655: 0, 1656: 0, 1657: 0, 1661: 0, 1662: 0, 1665: 20, 1670: 0, 1672: 0, 1677: 0, 1679: 9, 1681: 10, 1683: 4, 1684: 0, 1686: 0, 1687: 0, 1688: 1, 1693: 0, 26272: 2, 1701: 2, 1703: 0, 1705: 0, 1707: 3, 1709: 0, 1710: 0, 1713: 0, 1715: 0, 1718: 0, 1721: 0, 1724: 0, 1726: 0, 1728: 0, 1730: 0, 1731: 0, 1734: 0, 1735: 1, 1741: 0, 1744: 0, 1748: 0, 1752: 0, 1754: 0, 1757: 2, 1758: 1, 1759: 1, 1774: 0, 1777: 0, 1779: 0, 1780: 0, 1792: 0, 1794: 0, 1798: 1, 1799: 5, 1803: 0, 1813: 38, 1824: 1, 1826: 0, 1828: 18, 1831: 3, 1842: 1, 1843: 9, 1852: 74988, 1853: 0, 1854: 74740, 1856: 0, 1858: 167, 1863: 0, 1870: 0, 1871: 0, 1875: 0, 1876: 3, 1878: 0, 1880: 74825, 1881: 157, 1889: 5, 1896: 74883, 1898: 192, 1902: 0, 1907: 23, 1909: 0, 1917: 74724, 1921: 1, 1927: 0, 1929: 114, 1932: 4, 1943: 0, 1944: 0, 1951: 4, 1959: 50, 1961: 36, 1964: 1, 10160: 0, 1970: 0, 1971: 89, 1980: 4, 1982: 16, 1984: 74721, 1989: 8, 1990: 1, 1995: 34, 1997: 55, 1998: 4, 2001: 9, 2005: 0, 10200: 0, 2013: 0, 2016: 0, 2017: 0, 2030: 0, 2033: 1, 2034: 0, 2036: 0, 2037: 1, 2042: 141, 2045: 14, 2050: 13, 2055: 359, 2064: 2, 2068: 0, 2072: 1, 2078: 0, 2081: 0, 2084: 17, 2088: 0, 2097: 5, 2100: 0, 2101: 41, 2108: 0, 2111: 0, 2115: 0, 2133: 0, 2134: 1, 2137: 1, 2143: 29, 2148: 0, 2149: 3, 2161: 12, 2162: 74751, 2164: 74734, 2169: 13, 2170: 0, 2175: 74721, 2177: 74721, 2185: 74723, 2191: 2, 2194: 8, 2201: 0, 2218: 251, 2222: 1, 2237: 0, 2238: 0, 2240: 2, 2243: 3, 2246: 0, 2250: 7, 2255: 0, 2260: 0, 2263: 0, 2277: 0, 2285: 5, 2286: 1, 2287: 542, 2291: 1, 2294: 0, 2298: 0, 2303: 0, 2312: 62, 2320: 74811, 2321: 0, 2330: 0, 2334: 1, 2336: 0, 2342: 74721, 2348: 74981, 10546: 1, 2361: 8, 2367: 154, 2368: 20, 2374: 33, 2377: 74723, 2383: 6, 2384: 0, 2391: 0, 2392: 0, 2396: 9, 2401: 4, 2404: 11, 2417: 74721, 2421: 0, 2426: 0, 2432: 0, 2445: 0, 2447: 0, 2450: 0, 2460: 2, 2474: 1, 8239: 1, 2479: 0, 2486: 0, 2488: 0, 27065: 147, 2491: 0, 2494: 0, 2500: 0, 2502: 0, 2503: 0, 2509: 0, 2515: 4, 2518: 0, 10735: 0, 2546: 4, 2552: 0, 2561: 0, 2565: 2, 2572: 74933, 2576: 0, 2581: 0, 2599: 0, 2608: 0, 2615: 0, 2622: 0, 2626: 0, 2628: 4, 2630: 12, 2631: 1, 2638: 0, 2646: 0, 2668: 66, 2669: 6, 2683: 0, 2688: 7, 2715: 0, 2723: 4, 2725: 0, 2727: 0, 2739: 11, 2746: 13, 10953: 2, 2780: 15, 10974: 0, 2786: 33, 2790: 0, 2795: 113, 2799: 32, 2804: 2, 2816: 4, 2817: 11, 2818: 0, 2820: 1, 2822: 2, 2835: 1, 2836: 5, 2838: 0, 2849: 776, 2850: 0, 2851: 5, 2853: 5, 2872: 776, 2873: 2, 2890: 154, 2892: 1, 2898: 145, 2899: 1, 2918: 0, 2923: 0, 2929: 1, 11122: 74727, 2940: 11, 2941: 74956, 2952: 0, 2955: 0, 2964: 0, 2969: 0, 2970: 0, 2976: 0, 2981: 1, 2988: 1, 2989: 2, 2999: 19, 3017: 7, 3028: 0, 3030: 0, 3035: 8, 3038: 0, 3053: 0, 3060: 0, 3067: 0, 11267: 74721, 3092: 0, 3095: 1, 3097: 0, 3124: 1, 3134: 0, 3143: 1, 3144: 18, 3145: 3, 3175: 0, 3195: 2, 3232: 42, 3233: 81, 27810: 3, 3290: 8, 3308: 2, 3355: 1, 3359: 74721, 3378: 0, 3402: 0, 3420: 0, 3431: 5, 11629: 5, 28038: 0, 3469: 7, 3477: 4, 11682: 0, 11700: 7, 3526: 2, 3557: 0, 3569: 0, 3580: 2, 3604: 74721, 3608: 0, 3629: 74721, 3634: 0, 3647: 5, 3677: 0, 3702: 0, 3704: 1, 3717: 45, 3732: 1, 3758: 0, 11966: 0, 11977: 2, 3830: 38, 3831: 0, 3835: 1, 3841: 14, 3852: 1, 3875: 2, 12090: 0, 3906: 0, 3945: 74856, 3949: 0, 8935: 1, 4022: 0, 4033: 0, 4035: 0, 4059: 74731, 4078: 0, 12273: 1, 4142: 16, 4151: 0, 4156: 0, 4172: 6, 12369: 8, 4196: 1, 4198: 0, 4209: 0, 4242: 0, 4244: 0, 12463: 34, 4296: 1, 4319: 0, 12561: 0, 4371: 1, 4375: 11, 4393: 16, 4427: 60, 4444: 149, 12710: 1, 4525: 0, 4564: 2, 4602: 3, 4628: 5, 12857: 2, 4667: 0, 4671: 0, 4706: 0, 4738: 5, 4791: 0, 4794: 11, 4866: 6, 4888: 295, 4910: 74821, 4923: 0, 4977: 0, 5037: 2, 5042: 0, 5065: 2, 13279: 0, 5183: 9, 5300: 0, 5357: 2, 13553: 10, 5364: 1, 5388: 20, 5421: 1, 13651: 0, 5477: 0, 5538: 0, 5547: 8, 5706: 0, 5764: 0, 5846: 1, 5880: 0, 5892: 0, 5919: 1, 5949: 2, 5979: 8, 5990: 1, 14240: 0, 6116: 0, 6135: 3, 6266: 0, 6294: 3, 6381: 0, 6555: 0, 6570: 1, 14792: 1, 6725: 0, 23111: 3, 6774: 0, 15005: 0, 6817: 1, 6921: 1, 6986: 4, 7013: 0, 15243: 0, 39820: 1, 7135: 0, 15336: 0, 7188: 0, 7274: 75363, 7287: 74735, 7412: 0, 7446: 1, 48414: 1, 7490: 0, 7523: 2, 7665: 1, 7766: 0, 7892: 0, 7901: 3, 24328: 0}\n"
     ]
    }
   ],
   "source": [
    "print(influence)"
   ]
  },
  {
   "cell_type": "code",
   "execution_count": 13,
   "metadata": {
    "collapsed": false
   },
   "outputs": [
    {
     "data": {
      "text/plain": [
       "<matplotlib.collections.PathCollection at 0x12f0cf278>"
      ]
     },
     "execution_count": 13,
     "metadata": {},
     "output_type": "execute_result"
    },
    {
     "data": {
      "image/png": "[encoded data removed]",
      "text/plain": [
       "<matplotlib.figure.Figure at 0x12f496b38>"
      ]
     },
     "metadata": {},
     "output_type": "display_data"
    }
   ],
   "source": [
    "# Plot Influence\n",
    "plt.figure()\n",
    "#plt.hist([in_degree[k] for k in in_degree],bins=30) #bar chart histogram\n",
    "frequency,bins=np.histogram( #numpy based histogram\n",
    "    [influence[k] for k in influence],bins=30)\n",
    "plt.scatter([(x+bins[i+1])/2.0 for i,x in enumerate(bins[:-1])],frequency)"
   ]
  },
  {
   "cell_type": "code",
   "execution_count": 40,
   "metadata": {
    "collapsed": false
   },
   "outputs": [],
   "source": [
    "# the k-core decomposition algorithm\n",
    "# calculates the core number for every node:\n",
    "# core number of  a node is the maximum core that a specific node can be found\n",
    "def core_numbers(Graph):\n",
    "    core_n={} #dictionary to hold the k-core index\n",
    "    i=1 #every node will have at least one neighbor in our case\n",
    "    G=Graph.copy()\n",
    "    while G.number_of_nodes()>0: #while the graph is not empty\n",
    "        NN=G.number_of_nodes() #count how many nodes\n",
    "        to_remove=[]\n",
    "        degrees = dict(G.degree())\n",
    "        for n in G.nodes_iter():\n",
    "            if degrees[n]<i:\n",
    "                core_n[n]=i-1\n",
    "                to_remove.append(n)\n",
    "        G.remove_nodes_from(to_remove)\n",
    "        #if the graph size did not change then all nodes have at least k connections\n",
    "        #increase k \n",
    "        if NN==G.number_of_nodes():\n",
    "            i+=1\n",
    "    return core_n"
   ]
  },
  {
   "cell_type": "code",
   "execution_count": 41,
   "metadata": {
    "collapsed": false
   },
   "outputs": [],
   "source": [
    "# get the core numbers of all nodes\n",
    "core_num = core_numbers(S)\n",
    "#print(core_num)"
   ]
  },
  {
   "cell_type": "code",
   "execution_count": 42,
   "metadata": {
    "collapsed": false
   },
   "outputs": [
    {
     "data": {
      "text/html": [
       "<div>\n",
       "<table border=\"1\" class=\"dataframe\">\n",
       "  <thead>\n",
       "    <tr style=\"text-align: right;\">\n",
       "      <th></th>\n",
       "      <th>influence</th>\n",
       "      <th>core_number</th>\n",
       "      <th>degree</th>\n",
       "    </tr>\n",
       "  </thead>\n",
       "  <tbody>\n",
       "    <tr>\n",
       "      <th>0</th>\n",
       "      <td>0</td>\n",
       "      <td>55</td>\n",
       "      <td>301</td>\n",
       "    </tr>\n",
       "    <tr>\n",
       "      <th>1</th>\n",
       "      <td>0</td>\n",
       "      <td>40</td>\n",
       "      <td>33</td>\n",
       "    </tr>\n",
       "    <tr>\n",
       "      <th>2</th>\n",
       "      <td>117</td>\n",
       "      <td>55</td>\n",
       "      <td>441</td>\n",
       "    </tr>\n",
       "    <tr>\n",
       "      <th>3</th>\n",
       "      <td>28</td>\n",
       "      <td>55</td>\n",
       "      <td>188</td>\n",
       "    </tr>\n",
       "    <tr>\n",
       "      <th>4</th>\n",
       "      <td>84</td>\n",
       "      <td>55</td>\n",
       "      <td>468</td>\n",
       "    </tr>\n",
       "  </tbody>\n",
       "</table>\n",
       "</div>"
      ],
      "text/plain": [
       "   influence  core_number  degree\n",
       "0          0           55     301\n",
       "1          0           40      33\n",
       "2        117           55     441\n",
       "3         28           55     188\n",
       "4         84           55     468"
      ]
     },
     "execution_count": 42,
     "metadata": {},
     "output_type": "execute_result"
    }
   ],
   "source": [
    "# join core_num and influence\n",
    "data = []\n",
    "for node in influence:\n",
    "    if node in core_num:\n",
    "        data.append([influence[node], core_num[node], in_degree[node]])\n",
    "        \n",
    "df = pd.DataFrame(data, columns=[\"influence\", \"core_number\", \"degree\"])\n",
    "\n",
    "df.head(5)"
   ]
  },
  {
   "cell_type": "code",
   "execution_count": 43,
   "metadata": {
    "collapsed": false
   },
   "outputs": [
    {
     "data": {
      "text/plain": [
       "<matplotlib.collections.PathCollection at 0x12f68fa58>"
      ]
     },
     "execution_count": 43,
     "metadata": {},
     "output_type": "execute_result"
    },
    {
     "data": {
      "image/png": "[encoded data removed]",
      "text/plain": [
       "<matplotlib.figure.Figure at 0x12ee27be0>"
      ]
     },
     "metadata": {},
     "output_type": "display_data"
    }
   ],
   "source": [
    "#plt.scatter(df[\"influence\"].apply(np.log), df[\"core_number\"])\n",
    "plt.figure()\n",
    "plt.scatter(df[\"influence\"], df[\"core_number\"])"
   ]
  },
  {
   "cell_type": "code",
   "execution_count": 50,
   "metadata": {
    "collapsed": false
   },
   "outputs": [
    {
     "name": "stdout",
     "output_type": "stream",
     "text": [
      "Number of cores 55\n"
     ]
    },
    {
     "data": {
      "text/plain": [
       "<matplotlib.collections.PathCollection at 0x12ffab588>"
      ]
     },
     "execution_count": 50,
     "metadata": {},
     "output_type": "execute_result"
    },
    {
     "data": {
      "image/png": "[encoded data removed]",
      "text/plain": [
       "<matplotlib.figure.Figure at 0x12f45bb00>"
      ]
     },
     "metadata": {},
     "output_type": "display_data"
    }
   ],
   "source": [
    "# collect core number and includence evaluations per node\n",
    "plt.figure()\n",
    "aggregated_df = df.groupby(\"core_number\").mean().reset_index()\n",
    "count_cores = aggregated_df.shape[0]\n",
    "print(\"Number of cores \" + str(count_cores))\n",
    "#plt.scatter(aggregated_df[\"influence\"], aggregated_df[\"core_number\"])\n",
    "plt.xlabel('influence')\n",
    "plt.ylabel('core_number')\n",
    "plt.scatter(aggregated_df[\"influence\"].apply(np.log), aggregated_df[\"core_number\"])"
   ]
  },
  {
   "cell_type": "code",
   "execution_count": 54,
   "metadata": {
    "collapsed": false
   },
   "outputs": [
    {
     "data": {
      "text/html": [
       "<div>\n",
       "<table border=\"1\" class=\"dataframe\">\n",
       "  <thead>\n",
       "    <tr style=\"text-align: right;\">\n",
       "      <th></th>\n",
       "      <th>influence</th>\n",
       "      <th>page_rank</th>\n",
       "      <th>degree</th>\n",
       "    </tr>\n",
       "  </thead>\n",
       "  <tbody>\n",
       "    <tr>\n",
       "      <th>0</th>\n",
       "      <td>0</td>\n",
       "      <td>0.000104</td>\n",
       "      <td>301</td>\n",
       "    </tr>\n",
       "    <tr>\n",
       "      <th>1</th>\n",
       "      <td>0</td>\n",
       "      <td>0.000031</td>\n",
       "      <td>33</td>\n",
       "    </tr>\n",
       "    <tr>\n",
       "      <th>2</th>\n",
       "      <td>117</td>\n",
       "      <td>0.000109</td>\n",
       "      <td>441</td>\n",
       "    </tr>\n",
       "    <tr>\n",
       "      <th>3</th>\n",
       "      <td>28</td>\n",
       "      <td>0.000057</td>\n",
       "      <td>188</td>\n",
       "    </tr>\n",
       "    <tr>\n",
       "      <th>4</th>\n",
       "      <td>84</td>\n",
       "      <td>0.000161</td>\n",
       "      <td>468</td>\n",
       "    </tr>\n",
       "  </tbody>\n",
       "</table>\n",
       "</div>"
      ],
      "text/plain": [
       "   influence  page_rank  degree\n",
       "0          0   0.000104     301\n",
       "1          0   0.000031      33\n",
       "2        117   0.000109     441\n",
       "3         28   0.000057     188\n",
       "4         84   0.000161     468"
      ]
     },
     "execution_count": 54,
     "metadata": {},
     "output_type": "execute_result"
    }
   ],
   "source": [
    "# you can do the same for any other metric e.g. pagerank\n",
    "\n",
    "# Get page rank for graph S\n",
    "pr = nx.pagerank(S)\n",
    "\n",
    "data = []\n",
    "for node in influence:\n",
    "    if node in core_num:\n",
    "        data.append([influence[node], pr[node], in_degree[node]])\n",
    "        \n",
    "df = pd.DataFrame(data, columns=[\"influence\", \"page_rank\", \"degree\"])\n",
    "\n",
    "df.head(5)"
   ]
  },
  {
   "cell_type": "code",
   "execution_count": 76,
   "metadata": {
    "collapsed": false,
    "scrolled": true
   },
   "outputs": [
    {
     "data": {
      "text/plain": [
       "(0, 0.00018799999999999999)"
      ]
     },
     "execution_count": 76,
     "metadata": {},
     "output_type": "execute_result"
    },
    {
     "data": {
      "image/png": "[encoded data removed]",
      "text/plain": [
       "<matplotlib.figure.Figure at 0x132b9fc88>"
      ]
     },
     "metadata": {},
     "output_type": "display_data"
    }
   ],
   "source": [
    "bins = np.linspace(0,df[\"page_rank\"].max(), 100)\n",
    "labels = [np.round((bins[i] +  bins[i+1])/2, 6) for i in range(len(bins) - 1)]\n",
    "df['pr_b'] = pd.cut(df[\"page_rank\"], bins, labels=labels)\n",
    "\n",
    "df2 = df.groupby('pr_b').mean().reset_index()\n",
    "plt.figure()\n",
    "plt.xlabel(\"Influence\")\n",
    "plt.ylabel(\"Page Rank\")\n",
    "plt.scatter(df2[\"influence\"].apply(np.log), df2[\"pr_b\"])\n",
    "#plt.ylim([0.00001,0.0002])\n",
    "plt.ylim([0,df2[\"pr_b\"].max()])\n"
   ]
  },
  {
   "cell_type": "code",
   "execution_count": null,
   "metadata": {
    "collapsed": false
   },
   "outputs": [],
   "source": [
    "# plot  core number vs influence to see possible correlation\n",
    "# get the average \"influence\" per core number"
   ]
  },
  {
   "cell_type": "code",
   "execution_count": 77,
   "metadata": {
    "collapsed": false
   },
   "outputs": [
    {
     "name": "stderr",
     "output_type": "stream",
     "text": [
      "/Users/aymenmouelhi/anaconda/lib/python3.6/site-packages/networkx/drawing/nx_pylab.py:126: MatplotlibDeprecationWarning: pyplot.hold is deprecated.\n",
      "    Future behavior will be consistent with the long-time default:\n",
      "    plot commands add elements without first clearing the\n",
      "    Axes and/or Figure.\n",
      "  b = plt.ishold()\n",
      "/Users/aymenmouelhi/anaconda/lib/python3.6/site-packages/networkx/drawing/nx_pylab.py:138: MatplotlibDeprecationWarning: pyplot.hold is deprecated.\n",
      "    Future behavior will be consistent with the long-time default:\n",
      "    plot commands add elements without first clearing the\n",
      "    Axes and/or Figure.\n",
      "  plt.hold(b)\n",
      "/Users/aymenmouelhi/anaconda/lib/python3.6/site-packages/matplotlib/__init__.py:917: UserWarning: axes.hold is deprecated. Please remove it from your matplotlibrc and/or style files.\n",
      "  warnings.warn(self.msg_depr_set % key)\n",
      "/Users/aymenmouelhi/anaconda/lib/python3.6/site-packages/matplotlib/rcsetup.py:152: UserWarning: axes.hold is deprecated, will be removed in 3.0\n",
      "  warnings.warn(\"axes.hold is deprecated, will be removed in 3.0\")\n"
     ]
    },
    {
     "data": {
      "image/png": "[encoded data removed]",
      "text/plain": [
       "<matplotlib.figure.Figure at 0x13065fb00>"
      ]
     },
     "metadata": {},
     "output_type": "display_data"
    }
   ],
   "source": [
    "# spring layout is an algorithm to position nodes when we plot them\n",
    "from networkx import spring_layout\n",
    "f=open('karate.csv')#we use a smaller graph here : zachary's karate club\n",
    "edges=[]\n",
    "for line in f:\n",
    "        if line[0]!='%':\n",
    "            tmp=line.strip().split()\n",
    "            edges.append([int(tmp[0])-1,int(tmp[1])-1])\n",
    "# build the graph from the edges\n",
    "K=nx.Graph()\n",
    "K.add_edges_from(edges)\n",
    "# plot the graph\n",
    "nx.draw(K,pos=spring_layout(K))"
   ]
  },
  {
   "cell_type": "code",
   "execution_count": null,
   "metadata": {
    "collapsed": false
   },
   "outputs": [],
   "source": [
    "# NEXT: SPECTRAL CLUSTERING\n",
    "# get adjacency matrix\n",
    "# normalize adjacency matrix: 1/degree of node\n",
    "# put the degrees in a diagonal matrix\n",
    "# compute the laplacian = diagonal-adjacency\n",
    "# we could use only the second eigen vector (positions start at 0)\n",
    "# the first eigenvector should not have important information\n",
    "# i.e. the values in the first eigenvector should be almost equal"
   ]
  },
  {
   "cell_type": "code",
   "execution_count": null,
   "metadata": {
    "collapsed": false
   },
   "outputs": [],
   "source": [
    "from sklearn.cluster import KMeans\n",
    "# cluster the eigenvector values\n",
    "\n",
    "# use cluster labels (numerical labels) as color assigment to replot the graph\n",
    "# nx.draw(K,pos=spring_layout(K), node_color=cluster_assingment)"
   ]
  },
  {
   "cell_type": "code",
   "execution_count": null,
   "metadata": {
    "collapsed": false
   },
   "outputs": [],
   "source": [
    "# for every clsuter calculate the modularity and aggregate it to one sum\n",
    "# make a change to the cluster assigments\n",
    "# re-evaluate modularity"
   ]
  },
  {
   "cell_type": "code",
   "execution_count": null,
   "metadata": {
    "collapsed": true
   },
   "outputs": [],
   "source": []
  }
 ],
 "metadata": {
  "kernelspec": {
   "display_name": "Python 3",
   "language": "python",
   "name": "python3"
  },
  "language_info": {
   "codemirror_mode": {
    "name": "ipython",
    "version": 3
   },
   "file_extension": ".py",
   "mimetype": "text/x-python",
   "name": "python",
   "nbconvert_exporter": "python",
   "pygments_lexer": "ipython3",
   "version": "3.6.0"
  }
 },
 "nbformat": 4,
 "nbformat_minor": 0
}
